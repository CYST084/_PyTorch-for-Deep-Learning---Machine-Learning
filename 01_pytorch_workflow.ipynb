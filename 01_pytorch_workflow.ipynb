{
 "cells": [
  {
   "cell_type": "markdown",
   "metadata": {},
   "source": [
    "PyTorch Workflow\n",
    "\n",
    "Lets explore an example PyTorch end-to-end workflow.\n",
    "\n",
    "Resources:\n",
    "\n",
    "- Github notebook: https://github.com/mrdbourke/pytorch-deep-learning/blob/main/01_pytorch_workflow.ipynb\n",
    "- Book version of the notebook: https://www.learnpytorch.io/01_pytorch_workflow/\n",
    "- YouTube video: https://youtu.be/Z_ikDlimN6A\n"
   ]
  },
  {
   "cell_type": "code",
   "execution_count": 1,
   "metadata": {},
   "outputs": [],
   "source": [
    "what_we_are_covering = {\n",
    "    1: \"data (prepare and load)\",\n",
    "    2: \"build model\",\n",
    "    3: \"fitting a model to data (training)\",\n",
    "    4: \"making predictions and evaluating a model (inference)\",\n",
    "    5: \"saving and loading a model\",\n",
    "    6: \"putting it all together\",\n",
    "}"
   ]
  },
  {
   "cell_type": "code",
   "execution_count": 2,
   "metadata": {},
   "outputs": [
    {
     "data": {
      "text/plain": [
       "'2.2.1+cpu'"
      ]
     },
     "execution_count": 2,
     "metadata": {},
     "output_type": "execute_result"
    }
   ],
   "source": [
    "import torch\n",
    "from torch import nn  # nn contains all PyTorch's building blocks for neural networks\n",
    "import matplotlib.pyplot as plt\n",
    "\n",
    "# Check PyTorch version\n",
    "torch.__version__"
   ]
  },
  {
   "cell_type": "markdown",
   "metadata": {},
   "source": [
    "## 1. Data (preparing and loading)\n",
    "\n",
    "Data can be almost anything... in ML.\n",
    "\n",
    "- Excel spreadsheet (rows and columns)\n",
    "- Images of any kind\n",
    "- Videos (YouTube has lots of data...)\n",
    "- Audio like songs and podcasts\n",
    "- DNA\n",
    "- Text\n",
    "\n",
    "ML is a game of two parts:\n",
    "\n",
    "1. Get data into numerical representation.\n",
    "2. Build a model to learn patterns in that numerical representation.\n",
    "\n",
    "To showcase this, let's create some known data using the linear regression formula _(Y = a + bX) or (Y = mX + c) or (Yi = f(Xi, beta) + ei)_\n"
   ]
  },
  {
   "cell_type": "markdown",
   "metadata": {},
   "source": [
    "### ## Creating a simple dataset using linear regression\n",
    "\n",
    "We'll use a linear regression formula to make a straight line with known **parameters**. _(parameter - something that a model learns)_\n"
   ]
  },
  {
   "cell_type": "code",
   "execution_count": 3,
   "metadata": {},
   "outputs": [
    {
     "data": {
      "text/plain": [
       "(tensor([[0.0000],\n",
       "         [0.0200],\n",
       "         [0.0400],\n",
       "         [0.0600],\n",
       "         [0.0800],\n",
       "         [0.1000],\n",
       "         [0.1200],\n",
       "         [0.1400],\n",
       "         [0.1600],\n",
       "         [0.1800]]),\n",
       " tensor([[0.3000],\n",
       "         [0.3140],\n",
       "         [0.3280],\n",
       "         [0.3420],\n",
       "         [0.3560],\n",
       "         [0.3700],\n",
       "         [0.3840],\n",
       "         [0.3980],\n",
       "         [0.4120],\n",
       "         [0.4260]]),\n",
       " 50,\n",
       " 50)"
      ]
     },
     "execution_count": 3,
     "metadata": {},
     "output_type": "execute_result"
    }
   ],
   "source": [
    "# Create *known* parameters\n",
    "weight = 0.7  # b\n",
    "bias = 0.3  # a\n",
    "\n",
    "# Create a range of numbers\n",
    "start = 0\n",
    "end = 1\n",
    "step = 0.02\n",
    "\n",
    "X = torch.arange(start, end, step).unsqueeze(dim=1)\n",
    "# y = mx + c\n",
    "y = weight * X + bias\n",
    "\n",
    "X[:10], y[:10], len(X), len(y)"
   ]
  },
  {
   "cell_type": "markdown",
   "metadata": {},
   "source": [
    "### ## Splitting our sata into training and test sets (one of the most important concept in ML)\n",
    "\n",
    "Let's create a training and test set with our data\n"
   ]
  },
  {
   "cell_type": "code",
   "execution_count": 4,
   "metadata": {},
   "outputs": [
    {
     "data": {
      "text/plain": [
       "(40, 40, 10, 10)"
      ]
     },
     "execution_count": 4,
     "metadata": {},
     "output_type": "execute_result"
    }
   ],
   "source": [
    "# Create a train/test split\n",
    "train_split = int(0.8 * len(X))\n",
    "\n",
    "X_train, y_train = X[:train_split], y[:train_split]\n",
    "X_test, y_test = X[train_split:], y[train_split:]\n",
    "\n",
    "len(X_train), len(y_train), len(X_test), len(y_test)"
   ]
  },
  {
   "cell_type": "markdown",
   "metadata": {},
   "source": [
    "### ## Building a function to visualize our data\n"
   ]
  },
  {
   "cell_type": "code",
   "execution_count": 5,
   "metadata": {},
   "outputs": [],
   "source": [
    "def plot_predictions(\n",
    "    train_data=X_train,\n",
    "    train_labels=y_train,\n",
    "    test_data=X_test,\n",
    "    test_labels=y_test,\n",
    "    predictions=None,\n",
    "):\n",
    "    \"\"\"\n",
    "    Plots training data, test data and compares predictions\n",
    "    \"\"\"\n",
    "    plt.figure(figsize=(10, 7))\n",
    "\n",
    "    # Plot training data in blue\n",
    "    plt.scatter(train_data, train_labels, c=\"b\", s=4, label=\"Training data\")\n",
    "\n",
    "    # Plot test data in green\n",
    "    plt.scatter(test_data, test_labels, c=\"g\", s=4, label=\"Testing data\")\n",
    "\n",
    "    # Are there predictions?\n",
    "    if predictions is not None:\n",
    "        # Plot the predictions if they exist\n",
    "        plt.scatter(test_data, predictions, c=\"r\", s=4, label=\"Predictions\")\n",
    "\n",
    "    # Show the legend\n",
    "    plt.legend(prop={\"size\": 14})"
   ]
  },
  {
   "cell_type": "code",
   "execution_count": 6,
   "metadata": {},
   "outputs": [
    {
     "data": {
      "image/png": "[encoded data removed]",
      "text/plain": [
       "<Figure size 1000x700 with 1 Axes>"
      ]
     },
     "metadata": {},
     "output_type": "display_data"
    }
   ],
   "source": [
    "plot_predictions()"
   ]
  },
  {
   "cell_type": "markdown",
   "metadata": {},
   "source": [
    "### ## Creating our first PyTorch model for linear regression\n",
    "\n",
    "we'll be using classes so OOP knowledge will come in handy.\n",
    "Useful resource for OOP from Real Python: https://realpython.com/python3-object-oriented-programming/\n",
    "\n",
    "Also, we'll use `nn.Module` a lot, almost everything in PyTorch inherits from `nn.Module`. Its like a building block, it has a lot of helpful in-built things for building PyTorch models.\n",
    "See PyTorch's documentation.\n",
    "\n",
    "y = wx + b, where w and b are parameters, b is the bias.\n",
    "\n",
    "What our model does:\n",
    "\n",
    "- Start with random values (weight and bias)\n",
    "- Look at training data and adjust the random values to better represent (or get close to) the ideal values (the weight and bias values we used to create the data)\n",
    "\n",
    "How does it do so?\n",
    "\n",
    "Through two main algorithms:\n",
    "\n",
    "1. Gradient descent - https://youtu.be/IHZwWFHWa-w\n",
    "2. Backpropagation - https://youtu.be/llg3gGewQ5U\n",
    "   (3blue1brown videos)\n"
   ]
  },
  {
   "cell_type": "code",
   "execution_count": 7,
   "metadata": {},
   "outputs": [],
   "source": [
    "# create linear regression model class\n",
    "\n",
    "\n",
    "class LinearRegressionModel(nn.Module):\n",
    "    def __init__(self):\n",
    "        super().__init__()\n",
    "\n",
    "        # Initialize model parameters\n",
    "        self.weights = nn.Parameter(\n",
    "            torch.rand(1, requires_grad=True, dtype=torch.float)\n",
    "        )\n",
    "        self.bias = nn.Parameter(torch.rand(1, requires_grad=True, dtype=torch.float))\n",
    "\n",
    "    # forward() to define the computation in the model\n",
    "    def forward(self, x: torch.Tensor):  ## torch.Tensor:  # <- \"x\" is the input data\n",
    "        return self.weights * x + self.bias"
   ]
  },
  {
   "cell_type": "markdown",
   "metadata": {},
   "source": [
    "## Breaking down what's happening in our PyTorch linear regression model\n",
    "\n",
    "5.11.00\n"
   ]
  },
  {
   "cell_type": "markdown",
   "metadata": {},
   "source": [
    "## PyTorch essential neural network building modules\n",
    "\n",
    "- `torch.nn` - contains all of the building for neural networks (computational graphs)\n",
    "- `torch.nn.Parameter` - what parameter should our model try and learn, often a PyTorch layer from `torch.nn` will set these for us.\n",
    "- `torch.nn.Module` - The base class for all neural network modules, if you subclass it, you should overwrite `forward`\n",
    "- `torch.optim` - this's where the optimizers in PyTorch live, (they tell the model parameters stored in `nn.Parameters` how to best change to improve gradient descent and in turn reduce the loss)\n",
    "- `def forward()` - All `nn.Module` subclasses require you to overwrite `forward()`, this method defines what happens in the forward computation\n",
    "\n",
    "There are also others we'll encounter later:\n",
    "\n",
    "- `torch.utils.data.Dataset` - Represents a map between key(label) and sample (features) pairs of your data. Such as images and their associated labels.\n",
    "- `torch.utils.data.Dataloader` - Creates a Python iterable over a `torch Dataset` (allows you to iterate over your data)\n",
    "\n",
    "See docs, PyTorch cheat sheet: https://pytorch.org/tutorials/beginner/ptcheat.html\n"
   ]
  },
  {
   "cell_type": "markdown",
   "metadata": {},
   "source": [
    "## Checking out the internals of our PyTorch model\n",
    "\n",
    "Now we've created a model, let's see what's inside...\n",
    "\n",
    "So we ca check our model parameters or what's inside our model using `.parameters()`.\n"
   ]
  },
  {
   "cell_type": "code",
   "execution_count": 8,
   "metadata": {},
   "outputs": [
    {
     "name": "stdout",
     "output_type": "stream",
     "text": [
      "LinearRegressionModel() \n",
      "\n",
      "[Parameter containing:\n",
      "tensor([0.8823], requires_grad=True), Parameter containing:\n",
      "tensor([0.9150], requires_grad=True)]\n"
     ]
    }
   ],
   "source": [
    "# Create a random seed\n",
    "torch.manual_seed(42)\n",
    "\n",
    "# Create an instance of the model (this is a subclass of nn.Module)\n",
    "model_0 = LinearRegressionModel()\n",
    "\n",
    "print(model_0, \"\\n\")\n",
    "\n",
    "# Check out the parameters\n",
    "print(list(model_0.parameters()))"
   ]
  },
  {
   "cell_type": "code",
   "execution_count": 9,
   "metadata": {},
   "outputs": [
    {
     "data": {
      "text/plain": [
       "OrderedDict([('weights', tensor([0.8823])), ('bias', tensor([0.9150]))])"
      ]
     },
     "execution_count": 9,
     "metadata": {},
     "output_type": "execute_result"
    }
   ],
   "source": [
    "# List named parameters\n",
    "model_0.state_dict()"
   ]
  },
  {
   "cell_type": "markdown",
   "metadata": {},
   "source": [
    "Out goal is to use backpropagation and gradient descent to adjust the random values(model parameters), to get them as close as possible to the ideal values (weight and bias)\n",
    "\n",
    "In most cases, we won't know what the ideal values are, but in our case, we know them\n"
   ]
  },
  {
   "cell_type": "code",
   "execution_count": 10,
   "metadata": {},
   "outputs": [
    {
     "data": {
      "text/plain": [
       "(0.7, 0.3)"
      ]
     },
     "execution_count": 10,
     "metadata": {},
     "output_type": "execute_result"
    }
   ],
   "source": [
    "# The ideal values\n",
    "weight, bias"
   ]
  },
  {
   "cell_type": "markdown",
   "metadata": {},
   "source": [
    "## Making predictions with our random model using `torch.inference_mode()`\n",
    "\n",
    "To check our model's predictve power, let's see how well it predicts `y_test` based on `X_test`.\n",
    "\n",
    "When we pass data through our model, it's going to run it through the `forward()` method.\n"
   ]
  },
  {
   "cell_type": "code",
   "execution_count": 11,
   "metadata": {},
   "outputs": [
    {
     "data": {
      "text/plain": [
       "(tensor([[0.8000],\n",
       "         [0.8200],\n",
       "         [0.8400],\n",
       "         [0.8600],\n",
       "         [0.8800],\n",
       "         [0.9000],\n",
       "         [0.9200],\n",
       "         [0.9400],\n",
       "         [0.9600],\n",
       "         [0.9800]]),\n",
       " tensor([[0.8600],\n",
       "         [0.8740],\n",
       "         [0.8880],\n",
       "         [0.9020],\n",
       "         [0.9160],\n",
       "         [0.9300],\n",
       "         [0.9440],\n",
       "         [0.9580],\n",
       "         [0.9720],\n",
       "         [0.9860]]))"
      ]
     },
     "execution_count": 11,
     "metadata": {},
     "output_type": "execute_result"
    }
   ],
   "source": [
    "X_test, y_test"
   ]
  },
  {
   "cell_type": "code",
   "execution_count": 12,
   "metadata": {},
   "outputs": [
    {
     "data": {
      "text/plain": [
       "tensor([[1.6208],\n",
       "        [1.6385],\n",
       "        [1.6561],\n",
       "        [1.6738],\n",
       "        [1.6914],\n",
       "        [1.7090],\n",
       "        [1.7267],\n",
       "        [1.7443],\n",
       "        [1.7620],\n",
       "        [1.7796]])"
      ]
     },
     "execution_count": 12,
     "metadata": {},
     "output_type": "execute_result"
    }
   ],
   "source": [
    "# Make predictions with model (inference)\n",
    "with torch.inference_mode():\n",
    "    y_preds = model_0(X_test)\n",
    "\n",
    "y_preds"
   ]
  },
  {
   "cell_type": "markdown",
   "metadata": {},
   "source": [
    "`torch.inference_mode()` turns off gradient tracking (better than `torch.no_grad()`)\n",
    "\n",
    "Search: x/twitter torch.inference_mode\n",
    "\n",
    "Thread: https://twitter.com/PyTorch/status/1437838231505096708?s=20&t=cnKav09lTgw0-rfri6u7PQ\n",
    "\n",
    "Since the model parameters are untrained (random), the model'spredictions are just random.\n"
   ]
  },
  {
   "cell_type": "code",
   "execution_count": 13,
   "metadata": {},
   "outputs": [
    {
     "data": {
      "image/png": "[encoded data removed]",
      "text/plain": [
       "<Figure size 1000x700 with 1 Axes>"
      ]
     },
     "metadata": {},
     "output_type": "display_data"
    }
   ],
   "source": [
    "# Let's visualize them\n",
    "plot_predictions(predictions=y_preds)"
   ]
  },
  {
   "cell_type": "markdown",
   "metadata": {},
   "source": [
    "## Training a model with PyTorch (intuition building)\n",
    "\n",
    "The whole idea of training is for a model to move from some unknown parameters (these may be random) to some known\n",
    "\n",
    "Or in other words from a poor representation of the data to a better representation of the data\n",
    "\n",
    "One way tp measure how poor or how wrong your model's predictions are is to use a loss function.\n",
    "\n",
    "- Note: **Loss function** may also be called **cost function** or **criterion** in different areas. For our case, we're going to it as a loss function.\n",
    "\n",
    "Things we need to train:\n",
    "\n",
    "- **Loss function:** A function to measure how wrong your model's predictions are to the ideal outputs, lower is better.\n",
    "\n",
    "  There are many loss functions contained in `torch.nn` (see PyTorch docs on loss functions), Here are a few common ones:\n",
    "\n",
    "  - L1Loss (Mean Absolute Error), will suffice for refression tasks. Its implemented with `torch.nn.L1Loss` or `torch.mean(torch.abs(y_pred-y_test))`\n",
    "  - L2Loss (Meas Squares Error)\n",
    "  - Cross Entropy loss\n",
    "  - BCELoss (Binary Cross Entropy Loss), mostly for binary classification.\n",
    "\n",
    "- **Optimizer:** Takes into account the loss of a model and adjusts the model's parameters (e.g. weight and bias in our case) to improve the loss function (minimize loss).\n",
    "  Its in `torch.optim`.\n",
    "      Most common ones are:\n",
    "      - `Adam`\n",
    "      - `SGD` (Stochastic/random Gradient Descent). It starts by randomly adjusting the model's parameters to minimize the loss value.\n",
    "\n",
    "* Inside the optimizer, you'll often need to set two parameters:\n",
    "  - `params` - the model parameters you'd like to optimize, e.g. `params=model_0.parameters()`\n",
    "  - `lr` - the learning rate is a **hyperparameter** that defines how big/small the optimizer changes the parameters with each step (a small lr results in small changes, a large lr results in larger changes).\n",
    "\n",
    "  - The learning rate tells the optimizer how much to adjust the parameters, the higher the lr, the more the optimizer adjusts the params.\n",
    "\n",
    "And specifically for PyTorch, we need:\n",
    "\n",
    "- A training loop\n",
    "- A testing loop\n"
   ]
  },
  {
   "cell_type": "code",
   "execution_count": 14,
   "metadata": {},
   "outputs": [
    {
     "data": {
      "text/plain": [
       "OrderedDict([('weights', tensor([0.8823])), ('bias', tensor([0.9150]))])"
      ]
     },
     "execution_count": 14,
     "metadata": {},
     "output_type": "execute_result"
    }
   ],
   "source": [
    "# model's parameters\n",
    "model_0.state_dict()\n"
   ]
  },
  {
   "cell_type": "markdown",
   "metadata": {},
   "source": [
    "## Setting up a loss function and optimizer with PyTorch\n"
   ]
  },
  {
   "cell_type": "code",
   "execution_count": 18,
   "metadata": {},
   "outputs": [],
   "source": [
    "# Setting up a loss function\n",
    "loss_fn = nn.L1Loss()\n",
    "\n",
    "# Setting up an optimizer\n",
    "optimizer = torch.optim.SGD(params=model_0.parameters(), lr=0.01)\n"
   ]
  },
  {
   "cell_type": "code",
   "execution_count": 19,
   "metadata": {},
   "outputs": [
    {
     "data": {
      "text/plain": [
       "(L1Loss(),\n",
       " SGD (\n",
       " Parameter Group 0\n",
       "     dampening: 0\n",
       "     differentiable: False\n",
       "     foreach: None\n",
       "     lr: 0.01\n",
       "     maximize: False\n",
       "     momentum: 0\n",
       "     nesterov: False\n",
       "     weight_decay: 0\n",
       " ))"
      ]
     },
     "execution_count": 19,
     "metadata": {},
     "output_type": "execute_result"
    }
   ],
   "source": [
    "loss_fn, optimizer"
   ]
  },
  {
   "cell_type": "markdown",
   "metadata": {},
   "source": [
    "## Training loop and Testing loop in PyTorch (steps and intuition)\n",
    "\n",
    "A couple of things we need in a training loop:\n",
    "\n",
    "0. Loop through the data. One loop through the data is called an **epoch**. Its a _hyperparameter_ becouse we set it ourselves.Loop through the data and do...\n",
    "\n",
    "   1. **Forward pass** (this involves data moving through our model's `forward()` function/functions) to make predictions on data\n",
    "   2. Calculate the **loss** (compare forward pass predictions to ground truth labels)\n",
    "   3. Optimizer zero grad\n",
    "   4. **Backpropagation**/Loss backward - move backwards through the network to calculate the gradients (slope, rate of change, steepness of a hill) of each of the parameters of the model with respect to the loss\n",
    "   5. **Gradient Descent**/Optimizer step - use the optimizer to adjust our model's parameters to try and minimize the loss\n",
    "\n",
    "   - by default how the optimizer changes will accumulate through the loop so... we have to zero them above in step 3 for the next iteration of the loop\n"
   ]
  },
  {
   "cell_type": "code",
   "execution_count": null,
   "metadata": {},
   "outputs": [],
   "source": [
    "# Set number of epochs\n",
    "epochs = 1\n",
    "\n",
    "# Training loop\n",
    "# 0. Loop through the data\n",
    "for epoch in range(epochs):\n",
    "    # Set the model to training mode\n",
    "    model_0.train()  # sets all params that require gradients to require gradients\n",
    "\n",
    "    # 1. Forward pass\n",
    "    y_pred = model_0(X_train)\n",
    "\n",
    "    # 2. Calculate loss\n",
    "    loss = loss_fn(y_pred, y_train)\n",
    "\n",
    "    # 3. Optimizer zero grad\n",
    "    optimizer.zero_grad()\n",
    "\n",
    "    # 4. Perform backpropagation on the loss with respect to the model's params\n",
    "    loss.backward()\n",
    "\n",
    "    # 5. Step the optimizer (perform gradient descent)\n",
    "    optimizer.step()\n"
   ]
  }
 ],
 "metadata": {
  "kernelspec": {
   "display_name": "Python 3",
   "language": "python",
   "name": "python3"
  },
  "language_info": {
   "codemirror_mode": {
    "name": "ipython",
    "version": 3
   },
   "file_extension": ".py",
   "mimetype": "text/x-python",
   "name": "python",
   "nbconvert_exporter": "python",
   "pygments_lexer": "ipython3",
   "version": "3.12.2"
  }
 },
 "nbformat": 4,
 "nbformat_minor": 2
}
