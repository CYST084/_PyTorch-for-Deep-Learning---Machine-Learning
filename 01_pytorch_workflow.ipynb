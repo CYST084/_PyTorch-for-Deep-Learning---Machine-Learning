{
 "cells": [
  {
   "cell_type": "markdown",
   "metadata": {},
   "source": [
    "# PyTorch Workflow\n",
    "\n",
    "Lets explore an example PyTorch end-to-end workflow.\n",
    "\n",
    "Resources:\n",
    "\n",
    "- Github notebook: https://github.com/mrdbourke/pytorch-deep-learning/blob/main/01_pytorch_workflow.ipynb\n",
    "- Book version of the notebook: https://www.learnpytorch.io/01_pytorch_workflow/\n",
    "- YouTube video: https://youtu.be/Z_ikDlimN6A\n"
   ]
  },
  {
   "cell_type": "code",
   "execution_count": 1,
   "metadata": {},
   "outputs": [],
   "source": [
    "what_we_are_covering = {\n",
    "    1: \"data (prepare and load)\",\n",
    "    2: \"build model\",\n",
    "    3: \"fitting a model to data (training)\",\n",
    "    4: \"making predictions and evaluating a model (inference)\",\n",
    "    5: \"saving and loading a model\",\n",
    "    6: \"putting it all together\",\n",
    "}"
   ]
  },
  {
   "cell_type": "code",
   "execution_count": 2,
   "metadata": {},
   "outputs": [
    {
     "data": {
      "text/plain": [
       "'2.2.1+cpu'"
      ]
     },
     "execution_count": 2,
     "metadata": {},
     "output_type": "execute_result"
    }
   ],
   "source": [
    "import matplotlib.pyplot as plt\n",
    "import numpy as np\n",
    "import torch\n",
    "from torch import nn  # nn contains all PyTorch's building blocks for neural networks\n",
    "\n",
    "# Check PyTorch version\n",
    "torch.__version__"
   ]
  },
  {
   "cell_type": "markdown",
   "metadata": {},
   "source": [
    "## 1. Data (preparing and loading)\n",
    "\n",
    "Data can be almost anything... in ML.\n",
    "\n",
    "- Excel spreadsheet (rows and columns)\n",
    "- Images of any kind\n",
    "- Videos (YouTube has lots of data...)\n",
    "- Audio like songs and podcasts\n",
    "- DNA\n",
    "- Text\n",
    "\n",
    "ML is a game of two parts:\n",
    "\n",
    "1. Get data into numerical representation.\n",
    "2. Build a model to learn patterns in that numerical representation.\n",
    "\n",
    "To showcase this, let's create some known data using the linear regression formula _(Y = a + bX) or (Y = mX + c) or (Yi = f(Xi, beta) + ei)_\n"
   ]
  },
  {
   "cell_type": "markdown",
   "metadata": {},
   "source": [
    "### Creating a simple dataset using linear regression\n",
    "\n",
    "We'll use a linear regression formula to make a straight line with known **parameters**. _(parameter - something that a model learns)_\n"
   ]
  },
  {
   "cell_type": "code",
   "execution_count": 3,
   "metadata": {},
   "outputs": [
    {
     "data": {
      "text/plain": [
       "(tensor([[0.0000],\n",
       "         [0.0200],\n",
       "         [0.0400],\n",
       "         [0.0600],\n",
       "         [0.0800],\n",
       "         [0.1000],\n",
       "         [0.1200],\n",
       "         [0.1400],\n",
       "         [0.1600],\n",
       "         [0.1800]]),\n",
       " tensor([[0.3000],\n",
       "         [0.3140],\n",
       "         [0.3280],\n",
       "         [0.3420],\n",
       "         [0.3560],\n",
       "         [0.3700],\n",
       "         [0.3840],\n",
       "         [0.3980],\n",
       "         [0.4120],\n",
       "         [0.4260]]),\n",
       " 50,\n",
       " 50)"
      ]
     },
     "execution_count": 3,
     "metadata": {},
     "output_type": "execute_result"
    }
   ],
   "source": [
    "# Create *known* parameters\n",
    "weight = 0.7  # b\n",
    "bias = 0.3  # a\n",
    "\n",
    "# Create a range of numbers\n",
    "start = 0\n",
    "end = 1\n",
    "step = 0.02\n",
    "\n",
    "X = torch.arange(start, end, step).unsqueeze(dim=1)\n",
    "# y = mx + c\n",
    "y = weight * X + bias\n",
    "\n",
    "X[:10], y[:10], len(X), len(y)"
   ]
  },
  {
   "cell_type": "markdown",
   "metadata": {},
   "source": [
    "### Splitting our sata into training and test sets (one of the most important concept in ML)\n",
    "\n",
    "Let's create a training and test set with our data\n"
   ]
  },
  {
   "cell_type": "code",
   "execution_count": 4,
   "metadata": {},
   "outputs": [
    {
     "data": {
      "text/plain": [
       "(40, 40, 10, 10)"
      ]
     },
     "execution_count": 4,
     "metadata": {},
     "output_type": "execute_result"
    }
   ],
   "source": [
    "# Create a train/test split\n",
    "train_split = int(0.8 * len(X))\n",
    "\n",
    "X_train, y_train = X[:train_split], y[:train_split]\n",
    "X_test, y_test = X[train_split:], y[train_split:]\n",
    "\n",
    "len(X_train), len(y_train), len(X_test), len(y_test)"
   ]
  },
  {
   "cell_type": "markdown",
   "metadata": {},
   "source": [
    "### Building a function to visualize our data\n"
   ]
  },
  {
   "cell_type": "code",
   "execution_count": 5,
   "metadata": {},
   "outputs": [],
   "source": [
    "def plot_predictions(\n",
    "    train_data=X_train,\n",
    "    train_labels=y_train,\n",
    "    test_data=X_test,\n",
    "    test_labels=y_test,\n",
    "    predictions=None,\n",
    "):\n",
    "    \"\"\"\n",
    "    Plots training data, test data and compares predictions\n",
    "    \"\"\"\n",
    "    plt.figure(figsize=(10, 7))\n",
    "\n",
    "    # Plot training data in blue\n",
    "    plt.scatter(train_data, train_labels, c=\"b\", s=4, label=\"Training data\")\n",
    "\n",
    "    # Plot test data in green\n",
    "    plt.scatter(test_data, test_labels, c=\"g\", s=4, label=\"Testing data\")\n",
    "\n",
    "    # Are there predictions?\n",
    "    if predictions is not None:\n",
    "        # Plot the predictions if they exist\n",
    "        plt.scatter(test_data, predictions, c=\"r\", s=4, label=\"Predictions\")\n",
    "\n",
    "    # Show the legend\n",
    "    plt.legend(prop={\"size\": 14})"
   ]
  },
  {
   "cell_type": "code",
   "execution_count": 6,
   "metadata": {},
   "outputs": [
    {
     "data": {
      "image/png": "[encoded data removed]",
      "text/plain": [
       "<Figure size 1000x700 with 1 Axes>"
      ]
     },
     "metadata": {},
     "output_type": "display_data"
    }
   ],
   "source": [
    "plot_predictions()"
   ]
  },
  {
   "cell_type": "markdown",
   "metadata": {},
   "source": [
    "## Creating our first PyTorch model for linear regression\n",
    "\n",
    "we'll be using classes so OOP knowledge will come in handy.\n",
    "Useful resource for OOP from Real Python: https://realpython.com/python3-object-oriented-programming/\n",
    "\n",
    "Also, we'll use `nn.Module` a lot, almost everything in PyTorch inherits from `nn.Module`. Its like a building block, it has a lot of helpful in-built things for building PyTorch models.\n",
    "See PyTorch's documentation.\n",
    "\n",
    "y = wx + b, where w and b are parameters, b is the bias.\n",
    "\n",
    "What our model does:\n",
    "\n",
    "- Start with random values (weight and bias)\n",
    "- Look at training data and adjust the random values to better represent (or get close to) the ideal values (the weight and bias values we used to create the data)\n",
    "\n",
    "How does it do so?\n",
    "\n",
    "Through two main algorithms:\n",
    "\n",
    "1. Gradient descent - https://youtu.be/IHZwWFHWa-w\n",
    "2. Backpropagation - https://youtu.be/llg3gGewQ5U\n",
    "   (3blue1brown videos)\n"
   ]
  },
  {
   "cell_type": "code",
   "execution_count": 7,
   "metadata": {},
   "outputs": [],
   "source": [
    "# create linear regression model class\n",
    "\n",
    "\n",
    "class LinearRegressionModel(nn.Module):\n",
    "    def __init__(self):\n",
    "        super().__init__()\n",
    "\n",
    "        # Initialize model parameters\n",
    "        self.weights = nn.Parameter(\n",
    "            torch.rand(1, requires_grad=True, dtype=torch.float)\n",
    "        )\n",
    "        self.bias = nn.Parameter(torch.rand(1, requires_grad=True, dtype=torch.float))\n",
    "\n",
    "    # forward() to define the computation in the model\n",
    "    def forward(self, x: torch.Tensor):  ## torch.Tensor:  # <- \"x\" is the inputs data\n",
    "        return self.weights * x + self.bias"
   ]
  },
  {
   "cell_type": "markdown",
   "metadata": {},
   "source": [
    "## Breaking down what's happening in our PyTorch linear regression model\n",
    "\n",
    "5.11.00\n"
   ]
  },
  {
   "cell_type": "markdown",
   "metadata": {},
   "source": [
    "### PyTorch essential neural network building modules\n",
    "\n",
    "- `torch.nn` - contains all of the building for neural networks (computational graphs)\n",
    "- `torch.nn.Parameter` - what parameter should our model try and learn, often a PyTorch layer from `torch.nn` will set these for us.\n",
    "- `torch.nn.Module` - The base class for all neural network modules, if you subclass it, you should overwrite `forward`\n",
    "- `torch.optim` - this's where the optimizers in PyTorch live, (they tell the model parameters stored in `nn.Parameters` how to best change to improve gradient descent and in turn reduce the loss)\n",
    "- `def forward()` - All `nn.Module` subclasses require you to overwrite `forward()`, this method defines what happens in the forward computation\n",
    "\n",
    "There are also others we'll encounter later:\n",
    "\n",
    "- `torch.utils.data.Dataset` - Represents a map between key(label) and sample (features) pairs of your data. Such as images and their associated labels.\n",
    "- `torch.utils.data.Dataloader` - Creates a Python iterable over a `torch Dataset` (allows you to iterate over your data)\n",
    "\n",
    "See docs, PyTorch cheat sheet: https://pytorch.org/tutorials/beginner/ptcheat.html\n"
   ]
  },
  {
   "cell_type": "markdown",
   "metadata": {},
   "source": [
    "### Checking out the internals of our PyTorch model\n",
    "\n",
    "Now we've created a model, let's see what's inside...\n",
    "\n",
    "So we ca check our model parameters or what's inside our model using `.parameters()`.\n"
   ]
  },
  {
   "cell_type": "code",
   "execution_count": 8,
   "metadata": {},
   "outputs": [
    {
     "name": "stdout",
     "output_type": "stream",
     "text": [
      "LinearRegressionModel() \n",
      "\n",
      "[Parameter containing:\n",
      "tensor([0.8823], requires_grad=True), Parameter containing:\n",
      "tensor([0.9150], requires_grad=True)]\n"
     ]
    }
   ],
   "source": [
    "# Create a random seed\n",
    "torch.manual_seed(42)\n",
    "\n",
    "# Create an instance of the model (this is a subclass of nn.Module)\n",
    "model_0 = LinearRegressionModel()\n",
    "\n",
    "print(model_0, \"\\n\")\n",
    "\n",
    "# Check out the parameters\n",
    "print(list(model_0.parameters()))"
   ]
  },
  {
   "cell_type": "code",
   "execution_count": 9,
   "metadata": {},
   "outputs": [
    {
     "name": "stdout",
     "output_type": "stream",
     "text": [
      "OrderedDict({'weights': tensor([0.8823]), 'bias': tensor([0.9150])})\n"
     ]
    }
   ],
   "source": [
    "# Create a random seed\n",
    "torch.manual_seed(42)\n",
    "\n",
    "# Create an instance of the model (this is a subclass of nn.Module)\n",
    "model_0 = LinearRegressionModel()\n",
    "\n",
    "print(model_0.state_dict())"
   ]
  },
  {
   "cell_type": "markdown",
   "metadata": {},
   "source": [
    "We can always came back and re-run the cell above to start a fresh with a new untrained model, or functionalize it.\n"
   ]
  },
  {
   "cell_type": "code",
   "execution_count": 10,
   "metadata": {},
   "outputs": [
    {
     "data": {
      "text/plain": [
       "OrderedDict([('weights', tensor([0.8823])), ('bias', tensor([0.9150]))])"
      ]
     },
     "execution_count": 10,
     "metadata": {},
     "output_type": "execute_result"
    }
   ],
   "source": [
    "# List named parameters\n",
    "model_0.state_dict()"
   ]
  },
  {
   "cell_type": "markdown",
   "metadata": {},
   "source": [
    "Out goal is to use backpropagation and gradient descent to adjust the random values(model parameters), to get them as close as possible to the ideal values (weight and bias)\n",
    "\n",
    "In most cases, we won't know what the ideal values are, but in our case, we know them\n"
   ]
  },
  {
   "cell_type": "code",
   "execution_count": 11,
   "metadata": {},
   "outputs": [
    {
     "data": {
      "text/plain": [
       "(0.7, 0.3)"
      ]
     },
     "execution_count": 11,
     "metadata": {},
     "output_type": "execute_result"
    }
   ],
   "source": [
    "# The ideal values\n",
    "weight, bias"
   ]
  },
  {
   "cell_type": "markdown",
   "metadata": {},
   "source": [
    "## Making predictions with our random model using `torch.inference_mode()`\n",
    "\n",
    "To check our model's predictve power, let's see how well it predicts `y_test` based on `X_test`.\n",
    "\n",
    "When we pass data through our model, it's going to run it through the `forward()` method.\n"
   ]
  },
  {
   "cell_type": "code",
   "execution_count": 12,
   "metadata": {},
   "outputs": [
    {
     "data": {
      "text/plain": [
       "(tensor([[0.8000],\n",
       "         [0.8200],\n",
       "         [0.8400],\n",
       "         [0.8600],\n",
       "         [0.8800],\n",
       "         [0.9000],\n",
       "         [0.9200],\n",
       "         [0.9400],\n",
       "         [0.9600],\n",
       "         [0.9800]]),\n",
       " tensor([[0.8600],\n",
       "         [0.8740],\n",
       "         [0.8880],\n",
       "         [0.9020],\n",
       "         [0.9160],\n",
       "         [0.9300],\n",
       "         [0.9440],\n",
       "         [0.9580],\n",
       "         [0.9720],\n",
       "         [0.9860]]))"
      ]
     },
     "execution_count": 12,
     "metadata": {},
     "output_type": "execute_result"
    }
   ],
   "source": [
    "X_test, y_test"
   ]
  },
  {
   "cell_type": "code",
   "execution_count": 13,
   "metadata": {},
   "outputs": [
    {
     "data": {
      "text/plain": [
       "tensor([[1.6208],\n",
       "        [1.6385],\n",
       "        [1.6561],\n",
       "        [1.6738],\n",
       "        [1.6914],\n",
       "        [1.7090],\n",
       "        [1.7267],\n",
       "        [1.7443],\n",
       "        [1.7620],\n",
       "        [1.7796]])"
      ]
     },
     "execution_count": 13,
     "metadata": {},
     "output_type": "execute_result"
    }
   ],
   "source": [
    "# Make predictions with model (inference)\n",
    "with torch.inference_mode():\n",
    "    y_preds = model_0(X_test)\n",
    "\n",
    "y_preds"
   ]
  },
  {
   "cell_type": "markdown",
   "metadata": {},
   "source": [
    "`torch.inference_mode()` turns off gradient tracking (better than `torch.no_grad()`)\n",
    "\n",
    "Search: x/twitter torch.inference_mode\n",
    "\n",
    "Thread: https://twitter.com/PyTorch/status/1437838231505096708?s=20&t=cnKav09lTgw0-rfri6u7PQ\n",
    "\n",
    "Since the model parameters are untrained (random), the model'spredictions are just random.\n"
   ]
  },
  {
   "cell_type": "code",
   "execution_count": 14,
   "metadata": {},
   "outputs": [
    {
     "data": {
      "image/png": "[encoded data removed]",
      "text/plain": [
       "<Figure size 1000x700 with 1 Axes>"
      ]
     },
     "metadata": {},
     "output_type": "display_data"
    }
   ],
   "source": [
    "# Let's visualize them\n",
    "plot_predictions(predictions=y_preds)"
   ]
  },
  {
   "cell_type": "markdown",
   "metadata": {},
   "source": [
    "## Training a model with PyTorch (intuition building)\n",
    "\n",
    "The whole idea of training is for a model to move from some unknown parameters (these may be random) to some known\n",
    "\n",
    "Or in other words from a poor representation of the data to a better representation of the data\n",
    "\n",
    "One way tp measure how poor or how wrong your model's predictions are is to use a loss function.\n",
    "\n",
    "- Note: **Loss function** may also be called **cost function** or **criterion** in different areas. For our case, we're going to it as a loss function.\n",
    "\n",
    "Things we need to train:\n",
    "\n",
    "- **Loss function:** A function to measure how wrong your model's predictions are to the ideal outputs, lower is better.\n",
    "\n",
    "  There are many loss functions contained in `torch.nn` (see PyTorch docs on loss functions), Here are a few common ones:\n",
    "\n",
    "  - L1Loss (Mean Absolute Error), will suffice for refression tasks. Its implemented with `torch.nn.L1Loss` or `torch.mean(torch.abs(y_pred-y_test))`\n",
    "  - L2Loss (Meas Squares Error)\n",
    "  - Cross Entropy loss\n",
    "  - BCELoss (Binary Cross Entropy Loss), mostly for binary classification.\n",
    "\n",
    "- **Optimizer:** Takes into account the loss of a model and adjusts the model's parameters (e.g. weight and bias in our case) to improve the loss function (minimize loss).\n",
    "  Its in `torch.optim`.\n",
    "  Most common ones are: - `Adam` - `SGD` (Stochastic/random Gradient Descent). It starts by randomly adjusting the model's parameters to minimize the loss value.\n",
    "\n",
    "* Inside the optimizer, you'll often need to set two parameters:\n",
    "\n",
    "  - `params` - the model parameters you'd like to optimize, e.g. `params=model_0.parameters()`\n",
    "  - `lr` - the learning rate is a **hyperparameter** that defines how big/small the optimizer changes the parameters with each step (a small lr results in small changes, a large lr results in larger changes).\n",
    "\n",
    "    - There is also a concept of lr scheduling, _we reduce the lr as we approach the bottom of the slope_ (convergence)\n",
    "\n",
    "  - The learning rate tells the optimizer how much to adjust the parameters, the higher the lr, the more the optimizer adjusts the params.\n",
    "\n",
    "And specifically for PyTorch, we need:\n",
    "\n",
    "- A training loop\n",
    "- A testing loop\n"
   ]
  },
  {
   "cell_type": "code",
   "execution_count": 15,
   "metadata": {},
   "outputs": [
    {
     "data": {
      "text/plain": [
       "OrderedDict([('weights', tensor([0.8823])), ('bias', tensor([0.9150]))])"
      ]
     },
     "execution_count": 15,
     "metadata": {},
     "output_type": "execute_result"
    }
   ],
   "source": [
    "# model's parameters\n",
    "model_0.state_dict()"
   ]
  },
  {
   "cell_type": "markdown",
   "metadata": {},
   "source": [
    "### Setting up a loss function and optimizer with PyTorch\n"
   ]
  },
  {
   "cell_type": "code",
   "execution_count": 16,
   "metadata": {},
   "outputs": [],
   "source": [
    "# Setting up a loss function\n",
    "loss_fn = nn.L1Loss()\n",
    "\n",
    "# Setting up an optimizer\n",
    "optimizer = torch.optim.SGD(params=model_0.parameters(), lr=0.01)"
   ]
  },
  {
   "cell_type": "code",
   "execution_count": 17,
   "metadata": {},
   "outputs": [
    {
     "data": {
      "text/plain": [
       "(L1Loss(),\n",
       " SGD (\n",
       " Parameter Group 0\n",
       "     dampening: 0\n",
       "     differentiable: False\n",
       "     foreach: None\n",
       "     lr: 0.01\n",
       "     maximize: False\n",
       "     momentum: 0\n",
       "     nesterov: False\n",
       "     weight_decay: 0\n",
       " ))"
      ]
     },
     "execution_count": 17,
     "metadata": {},
     "output_type": "execute_result"
    }
   ],
   "source": [
    "loss_fn, optimizer"
   ]
  },
  {
   "cell_type": "markdown",
   "metadata": {},
   "source": [
    "### Training loop and Testing loop in PyTorch (steps and intuition)\n",
    "\n",
    "A couple of things we need in a training loop:\n",
    "\n",
    "0. Loop through the data. One loop through the data is called an **epoch**. Its a _hyperparameter_ because we set it ourselves.Loop through the data and do...\n",
    "\n",
    "   1. **Forward pass** (this involves data moving through our model's `forward()` function/functions) to make predictions on data\n",
    "   2. Calculate the **loss** (compare forward pass predictions to ground truth labels)\n",
    "   3. Optimizer **zero grad**. Zero the gradients of the optimizer (they accumulate over time by default) _They accumulate every epoch, we zero them to start fresh each forward pass._\n",
    "   4. **Backpropagation**/Loss backward - move backwards through the network to calculate the gradients (slope, rate of change..., steepness of a hill..) of each of the parameters of the model with respect to the loss. (compute the gradient of every parameter with `require_grad=True`)\n",
    "   5. **Gradient Descent**/Optimizer step - use the optimizer to adjust our model's parameters to try and minimize the loss\n",
    "\n",
    "   - by default how the optimizer changes will accumulate through the loop so... we have to zero them above in step 3 for the next iteration of the loop\n"
   ]
  },
  {
   "cell_type": "markdown",
   "metadata": {},
   "source": [
    "Basically...\n",
    "\n",
    "- **Backpropagation** is calculating the derivative... gradient/slope curves for each of the parameters in the model.\n",
    "\n",
    "- **Gradient descent** is moving through the gradient curve, stepping through it trying to reach the bottom/convergence. (you can think of it as just from its name, descending on the gradients, or _on a hill, trying to reach the bottom_)\n"
   ]
  },
  {
   "cell_type": "markdown",
   "metadata": {},
   "source": [
    "The initial random untrained model parameters:\n"
   ]
  },
  {
   "cell_type": "code",
   "execution_count": 18,
   "metadata": {},
   "outputs": [
    {
     "data": {
      "text/plain": [
       "OrderedDict([('weights', tensor([0.8823])), ('bias', tensor([0.9150]))])"
      ]
     },
     "execution_count": 18,
     "metadata": {},
     "output_type": "execute_result"
    }
   ],
   "source": [
    "# Model parameter before training\n",
    "untrained_params = model_0.state_dict()\n",
    "untrained_params"
   ]
  },
  {
   "cell_type": "code",
   "execution_count": 19,
   "metadata": {},
   "outputs": [
    {
     "name": "stdout",
     "output_type": "stream",
     "text": [
      "Loss: 0.6860889196395874\n"
     ]
    }
   ],
   "source": [
    "torch.manual_seed(42)\n",
    "\n",
    "# Set number of epochs\n",
    "epochs = 1\n",
    "\n",
    "# Training loop\n",
    "# 0. Loop/Pass the data through the model for a number of epochs\n",
    "for epoch in range(epochs):\n",
    "    # Set the model to training mode\n",
    "    model_0.train()  # sets all params that require gradients to require gradients\n",
    "\n",
    "    # 1. Forward pass\n",
    "    y_pred = model_0(X_train)\n",
    "\n",
    "    # 2. Calculate loss\n",
    "    loss = loss_fn(y_pred, y_train)\n",
    "    print(f\"Loss: {loss}\")\n",
    "\n",
    "    # 3. Optimizer zero grad\n",
    "    optimizer.zero_grad()\n",
    "\n",
    "    # 4. Perform backpropagation on the loss with respect to the model's params\n",
    "    loss.backward()\n",
    "\n",
    "    # 5. Step the optimizer (gradient descent)\n",
    "    optimizer.step()"
   ]
  },
  {
   "cell_type": "markdown",
   "metadata": {},
   "source": [
    "For some reason, this didn't work, parameters changed even the `untrained_parameters` variable seemed to change (might be a problem with notebooks...)\n",
    "\n",
    "I wanted to display the change, the untrained parameters and the parameters that have been updated, lol.\n",
    "\n",
    "we can always refer to the `untrained_parameters` in the cell up before training cell.\n"
   ]
  },
  {
   "cell_type": "code",
   "execution_count": 20,
   "metadata": {},
   "outputs": [
    {
     "name": "stdout",
     "output_type": "stream",
     "text": [
      "initial untrained/random parameters: \n",
      "OrderedDict({'weights': tensor([0.8784]), 'bias': tensor([0.9050])})\n",
      "\n",
      "Parameters after training for epochs above: \n",
      "OrderedDict({'weights': tensor([0.8784]), 'bias': tensor([0.9050])})\n"
     ]
    }
   ],
   "source": [
    "# model parameters after training for an epoch above\n",
    "changed_params = model_0.state_dict()\n",
    "print(f\"initial untrained/random parameters: \\n{untrained_params}\\n\")\n",
    "print(f\"Parameters after training for epochs above: \\n{changed_params}\")"
   ]
  },
  {
   "cell_type": "markdown",
   "metadata": {},
   "source": [
    "Let's move the training logic into a function we can call throughout\n"
   ]
  },
  {
   "cell_type": "code",
   "execution_count": 21,
   "metadata": {},
   "outputs": [],
   "source": [
    "def train(model, inputs, num_epochs, loss_fn, optimizer):\n",
    "    running_loss = []\n",
    "    for epoch in range(num_epochs):\n",
    "        # Setting model to train mode to keep track of gradients\n",
    "        model.train()\n",
    "\n",
    "        # Forward pass\n",
    "        outputs = model(inputs)\n",
    "\n",
    "        # Calculating loss\n",
    "        loss = loss_fn(outputs, inputs)\n",
    "        if num_epochs <= 5:\n",
    "            # print(f\"Loss: {loss}\")\n",
    "            print(f\"Loss (Epoch {epoch + 1}): {loss:.4f}\")\n",
    "\n",
    "        # Zero optimizer gradients\n",
    "        optimizer.zero_grad()\n",
    "\n",
    "        # Backpropagation\n",
    "        loss.backward()\n",
    "        \n",
    "        # Gradient descent\n",
    "        optimizer.step()\n",
    "        \n",
    "        if (epoch + 1) % 10 == 0:\n",
    "            running_loss.append(loss.item())\n",
    "    \n",
    "    print(f\"Running loss: {running_loss}\")"
   ]
  },
  {
   "cell_type": "code",
   "execution_count": 22,
   "metadata": {},
   "outputs": [
    {
     "data": {
      "text/plain": [
       "OrderedDict([('weights', tensor([0.8784])), ('bias', tensor([0.9050]))])"
      ]
     },
     "execution_count": 22,
     "metadata": {},
     "output_type": "execute_result"
    }
   ],
   "source": [
    "model_0.state_dict()"
   ]
  },
  {
   "cell_type": "markdown",
   "metadata": {},
   "source": [
    "Remember, we already defined the `optimizer` and `loss_fn` earlier\n"
   ]
  },
  {
   "cell_type": "code",
   "execution_count": 23,
   "metadata": {},
   "outputs": [
    {
     "name": "stdout",
     "output_type": "stream",
     "text": [
      "Loss (Epoch 1): 0.8576\n",
      "Running loss: []\n",
      "\n",
      "Changed params:\n",
      "OrderedDict({'weights': tensor([0.8745]), 'bias': tensor([0.8950])})\n",
      "\n",
      "Groung truth:\n",
      "(0.7, 0.3)\n"
     ]
    }
   ],
   "source": [
    "torch.manual_seed(42)\n",
    "\n",
    "epochs = 1\n",
    "\n",
    "train(\n",
    "    model=model_0,\n",
    "    inputs=X_train,\n",
    "    num_epochs=epochs,\n",
    "    loss_fn=loss_fn,\n",
    "    optimizer=optimizer,\n",
    ")\n",
    "\n",
    "# Print model stats\n",
    "current_params = model_0.state_dict()\n",
    "ground_truth = weight, bias\n",
    "\n",
    "print(f\"\\nChanged params:\\n{changed_params}\\n\\nGroung truth:\\n{ground_truth}\")"
   ]
  },
  {
   "cell_type": "markdown",
   "metadata": {},
   "source": [
    "### Seeing Gradient Descent in Action\n",
    "\n",
    "When we run the above cell, we can see the parameters changing, and the error.\n",
    "\n",
    "When we run it many times, we can see error reducing and the parameters approaching the `ground_truth`\n",
    "\n",
    "we can even change the epoch to any number, like 5, 10 ... and we can see how the loss is reducing.\n"
   ]
  },
  {
   "cell_type": "markdown",
   "metadata": {},
   "source": [
    "### Make predictions with our model\n"
   ]
  },
  {
   "cell_type": "code",
   "execution_count": 24,
   "metadata": {},
   "outputs": [
    {
     "data": {
      "image/png": "[encoded data removed]",
      "text/plain": [
       "<Figure size 1000x700 with 1 Axes>"
      ]
     },
     "metadata": {},
     "output_type": "display_data"
    }
   ],
   "source": [
    "# Previous predictions\n",
    "plot_predictions(predictions=y_preds)"
   ]
  },
  {
   "cell_type": "code",
   "execution_count": 25,
   "metadata": {},
   "outputs": [],
   "source": [
    "model_0.eval()\n",
    "with torch.inference_mode():\n",
    "    y_preds_new = model_0(X_test)"
   ]
  },
  {
   "cell_type": "code",
   "execution_count": 26,
   "metadata": {},
   "outputs": [
    {
     "data": {
      "image/png": "[encoded data removed]",
      "text/plain": [
       "<Figure size 1000x700 with 1 Axes>"
      ]
     },
     "metadata": {},
     "output_type": "display_data"
    }
   ],
   "source": [
    "# New predictions\n",
    "plot_predictions(predictions=y_preds_new)"
   ]
  },
  {
   "cell_type": "markdown",
   "metadata": {},
   "source": [
    "As you can see, after moderate training, the predictions are near the ground truths\n",
    "\n",
    "- _Only if you've trained a couple of times, ~15_\n",
    "\n",
    "try training for 100 epochs and see how it'll hange\n"
   ]
  },
  {
   "cell_type": "code",
   "execution_count": 27,
   "metadata": {},
   "outputs": [],
   "source": [
    "torch.manual_seed(42)\n",
    "\n",
    "epochs = 100\n",
    "\n",
    "def evaluate_model(n: int=epochs):\n",
    "    \"\"\"\n",
    "    params (n: int) - Takes in number of epochs to train the model for .\n",
    "\n",
    "    Trains the model for n epochs, as defined in epochs, then prints stats, and plots the predictions.\n",
    "    \"\"\"\n",
    "    train(\n",
    "        model=model_0,\n",
    "        inputs=X_train,\n",
    "        num_epochs=epochs,\n",
    "        loss_fn=loss_fn,\n",
    "        optimizer=optimizer,\n",
    "    )\n",
    "\n",
    "    # Print model stats\n",
    "    current_params = model_0.state_dict()\n",
    "    ground_truth = weight, bias\n",
    "\n",
    "    print(f\"\\nChanged params:\\n{current_params}\\n\\nGroung truth:\\n{ground_truth}\")\n",
    "\n",
    "    # Evaluate the model\n",
    "    model_0.eval()\n",
    "    with torch.inference_mode():\n",
    "        y_preds_n_epochs = model_0(X_test)\n",
    "\n",
    "    # New predictions after n epochs\n",
    "    plot_predictions(predictions=y_preds_n_epochs)"
   ]
  },
  {
   "cell_type": "code",
   "execution_count": 28,
   "metadata": {},
   "outputs": [
    {
     "name": "stdout",
     "output_type": "stream",
     "text": [
      "Running loss: [0.7423580884933472, 0.6271482110023499, 0.5119383931159973, 0.396728515625, 0.2815186381340027, 0.16630874574184418, 0.09566082805395126, 0.08086106926202774, 0.07521500438451767, 0.07133916765451431]\n",
      "\n",
      "Changed params:\n",
      "OrderedDict({'weights': tensor([0.6495]), 'bias': tensor([0.1525])})\n",
      "\n",
      "Groung truth:\n",
      "(0.7, 0.3)\n"
     ]
    },
    {
     "data": {
      "image/png": "[encoded data removed]",
      "text/plain": [
       "<Figure size 1000x700 with 1 Axes>"
      ]
     },
     "metadata": {},
     "output_type": "display_data"
    }
   ],
   "source": [
    "evaluate_model()"
   ]
  },
  {
   "cell_type": "markdown",
   "metadata": {},
   "source": [
    "### Writing testing loop code\n",
    "\n",
    "- `model.eval()` - Turns off different settings in the model not needed for evaluation/testing (e.g. Dropout/Batch Norm layers)\n",
    "- `torch.inference_mode()` - Turns off gradient tracking, (same as `torch.no_grad()` in older PyTorch code), and a couple of more things behing the scenes.\n",
    "- We still do `forward()` pass.\n"
   ]
  },
  {
   "cell_type": "code",
   "execution_count": 55,
   "metadata": {},
   "outputs": [
    {
     "name": "stdout",
     "output_type": "stream",
     "text": [
      "OrderedDict({'weights': tensor([0.8823]), 'bias': tensor([0.9150])})\n"
     ]
    }
   ],
   "source": [
    "# Create a random seed\n",
    "torch.manual_seed(42)\n",
    "\n",
    "# Instantiate a new model\n",
    "model_1 = LinearRegressionModel()\n",
    "\n",
    "print(model_1.state_dict())"
   ]
  },
  {
   "cell_type": "code",
   "execution_count": 67,
   "metadata": {},
   "outputs": [],
   "source": [
    "# Setting up a loss function\n",
    "loss_fn_1 = nn.L1Loss()\n",
    "\n",
    "# Setting up an optimizer\n",
    "optimizer_1 = torch.optim.SGD(params=model_1.parameters(), lr=0.01)"
   ]
  },
  {
   "cell_type": "code",
   "execution_count": 68,
   "metadata": {},
   "outputs": [],
   "source": [
    "# Setup empty lists to keep track of model progress\n",
    "epoch_count = []\n",
    "train_loss_values = []\n",
    "test_loss_values = []\n",
    "\n",
    "# wipe values in the list above clean\n",
    "def wipe_values_clean():\n",
    "    pass"
   ]
  },
  {
   "cell_type": "code",
   "execution_count": 58,
   "metadata": {},
   "outputs": [],
   "source": [
    "torch.manual_seed(42)\n",
    "\n",
    "def train_test_evaluate(model=model_1, train_inputs_data=X_train, train_output_data=y_train, test_inputs_data=X_test, test_output_data=y_test, num_epochs=1, loss_fn=loss_fn_1, optimizer=optimizer_1, plot=True):\n",
    "\n",
    "    for epoch in range(num_epochs):\n",
    "        # Setting model to train mode to keep track of gradients\n",
    "        model.train()\n",
    "\n",
    "        # Forward pass\n",
    "        predictions = model(train_inputs_data)\n",
    "\n",
    "        # Calculating loss\n",
    "        loss = loss_fn(predictions, train_output_data)\n",
    "\n",
    "        # Zero optimizer gradients\n",
    "        optimizer.zero_grad()\n",
    "\n",
    "        # Backpropagation\n",
    "        loss.backward()\n",
    "        \n",
    "        # Gradient descent\n",
    "        optimizer.step()\n",
    "        \n",
    "        # Evaluate/test the model\n",
    "        model.eval()\n",
    "        with torch.inference_mode():\n",
    "            # 1. Forward pass\n",
    "            test_pred = model(test_inputs_data)\n",
    "\n",
    "            # 2. Calculate test loss\n",
    "            test_loss = loss_fn(test_pred, test_output_data)\n",
    "\n",
    "        # Logging (Print out what's happening and update the value lists)\n",
    "        if epoch % 10 == 0:\n",
    "            epoch_count.append(epoch)\n",
    "            train_loss_values.append(loss.item())\n",
    "            test_loss_values.append(test_loss.item())\n",
    "            print(f\"Epoch: {epoch} | MAE Loss: {loss} | MAE Test loss: {test_loss}\")\n",
    "            # print model weights\n",
    "            print(model.state_dict())\n",
    "    # print Ground truth\n",
    "    print(f\"Ground Truth -> [ weight: {weight} | Bias: {bias} ]\")\n",
    "\n",
    "    # Plot presictions with test data\n",
    "    if plot:\n",
    "        plot_predictions(predictions=test_pred)"
   ]
  },
  {
   "cell_type": "markdown",
   "metadata": {},
   "source": [
    "During logging, we add `.item()` to the losses to append them to the lists as `float` data type, instead of `torch.tensors` which doesn't work well with matplotlib (we'd have to add `.detach().numpy()`)\n"
   ]
  },
  {
   "cell_type": "code",
   "execution_count": 32,
   "metadata": {},
   "outputs": [],
   "source": [
    "# Train, Test and Evaluate for 1 epoch\n",
    "# train_test_evaluate()"
   ]
  },
  {
   "cell_type": "markdown",
   "metadata": {},
   "source": [
    "We'll train the model for longer(100 epochs) and his time plot the predictions against train and test data\n"
   ]
  },
  {
   "cell_type": "code",
   "execution_count": 33,
   "metadata": {},
   "outputs": [],
   "source": [
    "# Train, Test and Evaluate for 100 epochs\n",
    "# train_test_evaluate(num_epochs=100, plot=True)"
   ]
  },
  {
   "cell_type": "markdown",
   "metadata": {},
   "source": [
    "The ultimate goal is to get the red dots(predictions) to match the green dots(test data, unseen during training)\n"
   ]
  },
  {
   "cell_type": "code",
   "execution_count": 69,
   "metadata": {},
   "outputs": [
    {
     "name": "stdout",
     "output_type": "stream",
     "text": [
      "Epoch: 0 | MAE Loss: 0.11004672944545746 | MAE Test loss: 0.10233600437641144\n",
      "OrderedDict({'weights': tensor([0.6869]), 'bias': tensor([0.4140])})\n",
      "Epoch: 10 | MAE Loss: 0.09852589666843414 | MAE Test loss: 0.08886518329381943\n",
      "OrderedDict({'weights': tensor([0.6830]), 'bias': tensor([0.4040])})\n",
      "Epoch: 20 | MAE Loss: 0.08700504153966904 | MAE Test loss: 0.07539437711238861\n",
      "OrderedDict({'weights': tensor([0.6791]), 'bias': tensor([0.3940])})\n",
      "Epoch: 30 | MAE Loss: 0.07548420131206512 | MAE Test loss: 0.0619235523045063\n",
      "OrderedDict({'weights': tensor([0.6752]), 'bias': tensor([0.3840])})\n",
      "Epoch: 40 | MAE Loss: 0.06396336108446121 | MAE Test loss: 0.04845272749662399\n",
      "OrderedDict({'weights': tensor([0.6713]), 'bias': tensor([0.3740])})\n",
      "Epoch: 50 | MAE Loss: 0.052442509680986404 | MAE Test loss: 0.03498192876577377\n",
      "OrderedDict({'weights': tensor([0.6674]), 'bias': tensor([0.3640])})\n",
      "Epoch: 60 | MAE Loss: 0.040921665728092194 | MAE Test loss: 0.021511107683181763\n",
      "OrderedDict({'weights': tensor([0.6635]), 'bias': tensor([0.3540])})\n",
      "Epoch: 70 | MAE Loss: 0.029400816187262535 | MAE Test loss: 0.008040308952331543\n",
      "OrderedDict({'weights': tensor([0.6596]), 'bias': tensor([0.3440])})\n",
      "Epoch: 80 | MAE Loss: 0.017879974097013474 | MAE Test loss: 0.0054305074736475945\n",
      "OrderedDict({'weights': tensor([0.6557]), 'bias': tensor([0.3340])})\n",
      "Epoch: 90 | MAE Loss: 0.011684718541800976 | MAE Test loss: 0.013987964019179344\n",
      "OrderedDict({'weights': tensor([0.6539]), 'bias': tensor([0.3270])})\n",
      "Epoch: 100 | MAE Loss: 0.010024385526776314 | MAE Test loss: 0.01766524836421013\n",
      "OrderedDict({'weights': tensor([0.6541]), 'bias': tensor([0.3232])})\n",
      "Epoch: 110 | MAE Loss: 0.009334058500826359 | MAE Test loss: 0.0191509909927845\n",
      "OrderedDict({'weights': tensor([0.6551]), 'bias': tensor([0.3208])})\n",
      "Epoch: 120 | MAE Loss: 0.008893127553164959 | MAE Test loss: 0.019572770223021507\n",
      "OrderedDict({'weights': tensor([0.6564]), 'bias': tensor([0.3192])})\n",
      "Epoch: 130 | MAE Loss: 0.008530955761671066 | MAE Test loss: 0.01922694966197014\n",
      "OrderedDict({'weights': tensor([0.6580]), 'bias': tensor([0.3182])})\n",
      "Epoch: 140 | MAE Loss: 0.008178118616342545 | MAE Test loss: 0.018811482936143875\n",
      "OrderedDict({'weights': tensor([0.6596]), 'bias': tensor([0.3172])})\n",
      "Epoch: 150 | MAE Loss: 0.007828602567315102 | MAE Test loss: 0.01825873926281929\n",
      "OrderedDict({'weights': tensor([0.6612]), 'bias': tensor([0.3163])})\n",
      "Epoch: 160 | MAE Loss: 0.00748574361205101 | MAE Test loss: 0.017431367188692093\n",
      "OrderedDict({'weights': tensor([0.6629]), 'bias': tensor([0.3156])})\n",
      "Epoch: 170 | MAE Loss: 0.007141849957406521 | MAE Test loss: 0.016604000702500343\n",
      "OrderedDict({'weights': tensor([0.6646]), 'bias': tensor([0.3149])})\n",
      "Epoch: 180 | MAE Loss: 0.006798344198614359 | MAE Test loss: 0.01584530435502529\n",
      "OrderedDict({'weights': tensor([0.6663]), 'bias': tensor([0.3141])})\n",
      "Epoch: 190 | MAE Loss: 0.006455325987190008 | MAE Test loss: 0.015017908997833729\n",
      "OrderedDict({'weights': tensor([0.6681]), 'bias': tensor([0.3134])})\n",
      "Epoch: 200 | MAE Loss: 0.006111425347626209 | MAE Test loss: 0.014190560206770897\n",
      "OrderedDict({'weights': tensor([0.6698]), 'bias': tensor([0.3127])})\n",
      "Epoch: 210 | MAE Loss: 0.00576809560880065 | MAE Test loss: 0.01343185268342495\n",
      "OrderedDict({'weights': tensor([0.6715]), 'bias': tensor([0.3120])})\n",
      "Epoch: 220 | MAE Loss: 0.0054248906672000885 | MAE Test loss: 0.012604475021362305\n",
      "OrderedDict({'weights': tensor([0.6732]), 'bias': tensor([0.3113])})\n",
      "Epoch: 230 | MAE Loss: 0.005080985836684704 | MAE Test loss: 0.011777120642364025\n",
      "OrderedDict({'weights': tensor([0.6749]), 'bias': tensor([0.3106])})\n",
      "Epoch: 240 | MAE Loss: 0.004737831652164459 | MAE Test loss: 0.011018401011824608\n",
      "OrderedDict({'weights': tensor([0.6766]), 'bias': tensor([0.3098])})\n",
      "Epoch: 250 | MAE Loss: 0.004394450690597296 | MAE Test loss: 0.01019102893769741\n",
      "OrderedDict({'weights': tensor([0.6783]), 'bias': tensor([0.3091])})\n",
      "Epoch: 260 | MAE Loss: 0.004050546791404486 | MAE Test loss: 0.009363656863570213\n",
      "OrderedDict({'weights': tensor([0.6800]), 'bias': tensor([0.3084])})\n",
      "Epoch: 270 | MAE Loss: 0.0037075714208185673 | MAE Test loss: 0.008604961447417736\n",
      "OrderedDict({'weights': tensor([0.6817]), 'bias': tensor([0.3077])})\n",
      "Epoch: 280 | MAE Loss: 0.003364016767591238 | MAE Test loss: 0.007777601480484009\n",
      "OrderedDict({'weights': tensor([0.6834]), 'bias': tensor([0.3070])})\n",
      "Epoch: 290 | MAE Loss: 0.0030201792251318693 | MAE Test loss: 0.0070188818499445915\n",
      "OrderedDict({'weights': tensor([0.6851]), 'bias': tensor([0.3062])})\n",
      "Epoch: 300 | MAE Loss: 0.0026773184072226286 | MAE Test loss: 0.0061914981342852116\n",
      "OrderedDict({'weights': tensor([0.6869]), 'bias': tensor([0.3055])})\n",
      "Epoch: 310 | MAE Loss: 0.0023335821460932493 | MAE Test loss: 0.005364149808883667\n",
      "OrderedDict({'weights': tensor([0.6886]), 'bias': tensor([0.3048])})\n",
      "Epoch: 320 | MAE Loss: 0.0019899189937859774 | MAE Test loss: 0.004605448339134455\n",
      "OrderedDict({'weights': tensor([0.6903]), 'bias': tensor([0.3041])})\n",
      "Epoch: 330 | MAE Loss: 0.001647049910388887 | MAE Test loss: 0.0037780702114105225\n",
      "OrderedDict({'weights': tensor([0.6920]), 'bias': tensor([0.3034])})\n",
      "Epoch: 340 | MAE Loss: 0.001303145312704146 | MAE Test loss: 0.0029507100116461515\n",
      "OrderedDict({'weights': tensor([0.6937]), 'bias': tensor([0.3027])})\n",
      "Epoch: 350 | MAE Loss: 0.0009596645832061768 | MAE Test loss: 0.0021920024883002043\n",
      "OrderedDict({'weights': tensor([0.6954]), 'bias': tensor([0.3019])})\n",
      "Epoch: 360 | MAE Loss: 0.0006166137754917145 | MAE Test loss: 0.001364630414173007\n",
      "OrderedDict({'weights': tensor([0.6971]), 'bias': tensor([0.3012])})\n",
      "Epoch: 370 | MAE Loss: 0.000272712844889611 | MAE Test loss: 0.0005372583982534707\n",
      "OrderedDict({'weights': tensor([0.6988]), 'bias': tensor([0.3005])})\n",
      "Epoch: 380 | MAE Loss: 0.0003208882990293205 | MAE Test loss: 0.0007917463663034141\n",
      "OrderedDict({'weights': tensor([0.6999]), 'bias': tensor([0.3009])})\n",
      "Epoch: 390 | MAE Loss: 0.0003208882990293205 | MAE Test loss: 0.0007917463663034141\n",
      "OrderedDict({'weights': tensor([0.6999]), 'bias': tensor([0.3009])})\n",
      "Epoch: 400 | MAE Loss: 0.0003208882990293205 | MAE Test loss: 0.0007917463663034141\n",
      "OrderedDict({'weights': tensor([0.6999]), 'bias': tensor([0.3009])})\n",
      "Epoch: 410 | MAE Loss: 0.0003208882990293205 | MAE Test loss: 0.0007917463663034141\n",
      "OrderedDict({'weights': tensor([0.6999]), 'bias': tensor([0.3009])})\n",
      "Epoch: 420 | MAE Loss: 0.0003208882990293205 | MAE Test loss: 0.0007917463663034141\n",
      "OrderedDict({'weights': tensor([0.6999]), 'bias': tensor([0.3009])})\n",
      "Epoch: 430 | MAE Loss: 0.0003208882990293205 | MAE Test loss: 0.0007917463663034141\n",
      "OrderedDict({'weights': tensor([0.6999]), 'bias': tensor([0.3009])})\n",
      "Epoch: 440 | MAE Loss: 0.0003208882990293205 | MAE Test loss: 0.0007917463663034141\n",
      "OrderedDict({'weights': tensor([0.6999]), 'bias': tensor([0.3009])})\n",
      "Epoch: 450 | MAE Loss: 0.0003208882990293205 | MAE Test loss: 0.0007917463663034141\n",
      "OrderedDict({'weights': tensor([0.6999]), 'bias': tensor([0.3009])})\n",
      "Epoch: 460 | MAE Loss: 0.0003208882990293205 | MAE Test loss: 0.0007917463663034141\n",
      "OrderedDict({'weights': tensor([0.6999]), 'bias': tensor([0.3009])})\n",
      "Epoch: 470 | MAE Loss: 0.0003208882990293205 | MAE Test loss: 0.0007917463663034141\n",
      "OrderedDict({'weights': tensor([0.6999]), 'bias': tensor([0.3009])})\n",
      "Epoch: 480 | MAE Loss: 0.0003208882990293205 | MAE Test loss: 0.0007917463663034141\n",
      "OrderedDict({'weights': tensor([0.6999]), 'bias': tensor([0.3009])})\n",
      "Epoch: 490 | MAE Loss: 0.0003208882990293205 | MAE Test loss: 0.0007917463663034141\n",
      "OrderedDict({'weights': tensor([0.6999]), 'bias': tensor([0.3009])})\n",
      "Ground Truth -> [ weight: 0.7 | Bias: 0.3 ]\n"
     ]
    },
    {
     "data": {
      "image/png": "[encoded data removed]",
      "text/plain": [
       "<Figure size 1000x700 with 1 Axes>"
      ]
     },
     "metadata": {},
     "output_type": "display_data"
    }
   ],
   "source": [
    "train_test_evaluate(num_epochs=500)"
   ]
  },
  {
   "cell_type": "code",
   "execution_count": 36,
   "metadata": {},
   "outputs": [],
   "source": [
    "# print([val.dtype() for val in (epoch_count[1:], train_loss_values[1:], test_loss_values[1:])])"
   ]
  },
  {
   "cell_type": "code",
   "execution_count": 70,
   "metadata": {},
   "outputs": [
    {
     "name": "stdout",
     "output_type": "stream",
     "text": [
      "[0, 10, 20, 30, 40]\n",
      "[<class 'int'>, <class 'int'>, <class 'int'>, <class 'int'>, <class 'int'>]\n"
     ]
    }
   ],
   "source": [
    "print([val for val in epoch_count[:5]])\n",
    "print([type(val) for val in epoch_count[:5]])"
   ]
  },
  {
   "cell_type": "code",
   "execution_count": 71,
   "metadata": {},
   "outputs": [
    {
     "name": "stdout",
     "output_type": "stream",
     "text": [
      "[0.11004672944545746, 0.09852589666843414]\n",
      "[<class 'float'>, <class 'float'>]\n"
     ]
    }
   ],
   "source": [
    "print([val for val in train_loss_values[:2]])\n",
    "print([type(val) for val in train_loss_values[:2]])"
   ]
  },
  {
   "cell_type": "code",
   "execution_count": 72,
   "metadata": {},
   "outputs": [
    {
     "name": "stdout",
     "output_type": "stream",
     "text": [
      "[0.10233600437641144, 0.08886518329381943]\n",
      "[<class 'float'>, <class 'float'>]\n"
     ]
    }
   ],
   "source": [
    "print([val for val in test_loss_values[:2]])\n",
    "print([type(val) for val in test_loss_values[:2]])"
   ]
  },
  {
   "cell_type": "code",
   "execution_count": 74,
   "metadata": {},
   "outputs": [],
   "source": [
    "# Train and Test loss curve using the values\n",
    "def plot_loss_curve(epochs=epoch_count, train_losses=train_loss_values, test_losses=test_loss_values):\n",
    "    plt.plot(epochs, train_losses, label=\"Train Loss\")\n",
    "    plt.plot(epochs, test_losses, label=\"Test Loss\")\n",
    "    plt.title(\"Training and Test Loss Curves\")\n",
    "    plt.ylabel(\"Loss\")\n",
    "    plt.xlabel(\"Epochs\")\n",
    "    plt.legend()\n",
    "    plt.show()"
   ]
  },
  {
   "cell_type": "code",
   "execution_count": 75,
   "metadata": {},
   "outputs": [
    {
     "data": {
      "image/png": "[encoded data removed]",
      "text/plain": [
       "<Figure size 640x480 with 1 Axes>"
      ]
     },
     "metadata": {},
     "output_type": "display_data"
    }
   ],
   "source": [
    "plot_loss_curve()"
   ]
  },
  {
   "cell_type": "markdown",
   "metadata": {},
   "source": [
    "## Saving a Model in PyTorch\n",
    "\n",
    "There are 3 main methods you should know about for saving and loading models in PyTorch.\n",
    "\n",
    "1. `torch.save()` - Allows you to save a PyTorch object in Python's **pickle** format.\n",
    "2. `torch.load()` - Allows you to load a saved PyTorch object.\n",
    "3. `torch.nn.Module.load_state_dict()` - Allows you to load a model's saved state dictionary.\n",
    "   - Since the model is a sub-class of `torch.nn.Module`, we can call the `load_state_dict()` directly.\n",
    "\n",
    "See Docs - https://pytorch.org/tutorials/beginner/saving_loading_models.html#saving-loading-model-for-inference\n",
    "\n",
    "Also if on colab, search how to save model in drive\n"
   ]
  },
  {
   "cell_type": "code",
   "execution_count": 89,
   "metadata": {},
   "outputs": [
    {
     "name": "stdout",
     "output_type": "stream",
     "text": [
      "Saving model to: models\\01_pytorch_workflow.pth\n"
     ]
    }
   ],
   "source": [
    "# Saving our PyTorch model\n",
    "from pathlib import Path\n",
    "\n",
    "# 1. Create models directory\n",
    "MODEL_PATH = Path(\"models\")\n",
    "MODEL_PATH.mkdir(parents=True, exist_ok=True)\n",
    "\n",
    "# 2. Create save path\n",
    "MODEL_NAME = \"01_pytorch_workflow_model_1.pth\"\n",
    "MODEL_SAVE_PATH = MODEL_PATH / MODEL_NAME\n",
    "\n",
    "# 3. Save the model state dict\n",
    "print(f\"Saving model to: {MODEL_SAVE_PATH}\")\n",
    "torch.save(obj=model_1.state_dict(), f=MODEL_SAVE_PATH)"
   ]
  },
  {
   "cell_type": "code",
   "execution_count": 83,
   "metadata": {},
   "outputs": [],
   "source": [
    "# ls -l models"
   ]
  },
  {
   "cell_type": "markdown",
   "metadata": {},
   "source": [
    "## Loading a PyTorch model\n",
    "\n",
    "Since we saved only the model's parameters, `state_dict()` rather than whole model (`torch.save()`), we'll create a new instance of our model class and load the saved `state_dict()` into that.\n"
   ]
  },
  {
   "cell_type": "code",
   "execution_count": 90,
   "metadata": {},
   "outputs": [
    {
     "data": {
      "text/plain": [
       "OrderedDict([('weights', tensor([0.6995])), ('bias', tensor([0.2999]))])"
      ]
     },
     "execution_count": 90,
     "metadata": {},
     "output_type": "execute_result"
    }
   ],
   "source": [
    "model_1.state_dict()"
   ]
  },
  {
   "cell_type": "code",
   "execution_count": 91,
   "metadata": {},
   "outputs": [
    {
     "data": {
      "text/plain": [
       "<All keys matched successfully>"
      ]
     },
     "execution_count": 91,
     "metadata": {},
     "output_type": "execute_result"
    }
   ],
   "source": [
    "# 1. Instantiate a new instance of our model class\n",
    "loaded_model_1 = LinearRegressionModel()\n",
    "\n",
    "# 2. Load the saved state dict of our model_1 (this will update the new instance with updated parameters)\n",
    "loaded_model_1.load_state_dict(torch.load(f=MODEL_SAVE_PATH))"
   ]
  },
  {
   "cell_type": "code",
   "execution_count": 92,
   "metadata": {},
   "outputs": [
    {
     "data": {
      "text/plain": [
       "OrderedDict([('weights', tensor([0.6995])), ('bias', tensor([0.2999]))])"
      ]
     },
     "execution_count": 92,
     "metadata": {},
     "output_type": "execute_result"
    }
   ],
   "source": [
    "# The model_1 parameters are exactly same as loaded_model_1 parameters\n",
    "loaded_model_1.state_dict()"
   ]
  },
  {
   "cell_type": "code",
   "execution_count": 94,
   "metadata": {},
   "outputs": [
    {
     "data": {
      "text/plain": [
       "tensor([[0.8595],\n",
       "        [0.8735],\n",
       "        [0.8875],\n",
       "        [0.9015],\n",
       "        [0.9154],\n",
       "        [0.9294],\n",
       "        [0.9434],\n",
       "        [0.9574],\n",
       "        [0.9714],\n",
       "        [0.9854]])"
      ]
     },
     "execution_count": 94,
     "metadata": {},
     "output_type": "execute_result"
    }
   ],
   "source": [
    "# Making some predictions with the loaded model\n",
    "loaded_model_1.eval()\n",
    "with torch.inference_mode():\n",
    "    loaded_model_predictions = loaded_model_1(X_test)\n",
    "\n",
    "loaded_model_predictions"
   ]
  },
  {
   "cell_type": "code",
   "execution_count": 98,
   "metadata": {},
   "outputs": [
    {
     "data": {
      "text/plain": [
       "tensor([[0.8595],\n",
       "        [0.8735],\n",
       "        [0.8875],\n",
       "        [0.9015],\n",
       "        [0.9154],\n",
       "        [0.9294],\n",
       "        [0.9434],\n",
       "        [0.9574],\n",
       "        [0.9714],\n",
       "        [0.9854]])"
      ]
     },
     "execution_count": 98,
     "metadata": {},
     "output_type": "execute_result"
    }
   ],
   "source": [
    "# Predictions with original model_1\n",
    "model_1.eval()\n",
    "with torch.inference_mode():\n",
    "    original_model_preds = model_1(X_test)\n",
    "\n",
    "original_model_preds"
   ]
  },
  {
   "cell_type": "code",
   "execution_count": 99,
   "metadata": {},
   "outputs": [
    {
     "data": {
      "text/plain": [
       "tensor([[True],\n",
       "        [True],\n",
       "        [True],\n",
       "        [True],\n",
       "        [True],\n",
       "        [True],\n",
       "        [True],\n",
       "        [True],\n",
       "        [True],\n",
       "        [True]])"
      ]
     },
     "execution_count": 99,
     "metadata": {},
     "output_type": "execute_result"
    }
   ],
   "source": [
    "# Compare original model preds with loaded model preds\n",
    "original_model_preds == loaded_model_predictions"
   ]
  },
  {
   "cell_type": "markdown",
   "metadata": {},
   "source": [
    "## Some Bugs I Encountered\n",
    "\n",
    "- When I instantiated a new model (`model_1`), I forgot to instantiate a new optimizer for it, used the old one for `model_0` (and in optimizers we pass `model.parameters()` and `learning rate`) so with the wrong model parameters, optimizer won't do sh\\*t.\n",
    "\n",
    "  Got flat parallel train test curves and constant train and test loss values(Why Logging and Visualization are important).\n",
    "\n",
    "  - Rectified it by instantiating a new optimizer and passing new model params.\n",
    "\n",
    "- Passed wrong data .At some point, confused in between X_train, y_train and X_test, y_test data.\n",
    "\n",
    "  - That's why I went with deliberate naming `(train_inputs_data, train_outputs_data, test_inputs_data, test_outputs_data)`.\n",
    "\n",
    "- When Visualizing/plotting the train and test loss curves, encountered typeErrors where matplotlib works only with numpy arrays or Python's native data types and not PyTorch's `torch.tensor()`. The `train_test_evaluate()` loop appended values of type`torch.tensor()` to the `train and test loss values` lists.\n",
    "\n",
    "  - Remedied this by adding `.item()` after loss value, which will convert it to Python native dtypes like `float`.\n",
    "\n",
    "- Also some typos here and there.\n"
   ]
  },
  {
   "cell_type": "markdown",
   "metadata": {},
   "source": [
    "# Putting it all together\n",
    "\n",
    "Let's go back through the steps above and see it all in one place\n"
   ]
  },
  {
   "cell_type": "code",
   "execution_count": 32,
   "metadata": {},
   "outputs": [
    {
     "data": {
      "text/plain": [
       "'2.2.1+cpu'"
      ]
     },
     "execution_count": 32,
     "metadata": {},
     "output_type": "execute_result"
    }
   ],
   "source": [
    "# Import PyTorch and Matplotlib\n",
    "import torch\n",
    "from torch import nn\n",
    "import matplotlib.pyplot as plt\n",
    "\n",
    "# check PyTorch version\n",
    "torch.__version__"
   ]
  },
  {
   "cell_type": "markdown",
   "metadata": {},
   "source": [
    "### Device agnostic code\n",
    "\n",
    "Can work on both \"CPU\" and \"GPU\" for fast computing incase have access to a GPU e.g. custom or on colab or kaggle.\n",
    "\n",
    "Default to `cpu` and `cuda` (GPU) only if its available.\n"
   ]
  },
  {
   "cell_type": "code",
   "execution_count": 33,
   "metadata": {},
   "outputs": [
    {
     "name": "stdout",
     "output_type": "stream",
     "text": [
      "Using Device: cpu\n"
     ]
    }
   ],
   "source": [
    "# Setting up device agnostic code\n",
    "device = 'cuda' if torch.cuda.is_available() else 'cpu'\n",
    "\n",
    "print(f\"Using Device: {device}\")"
   ]
  },
  {
   "cell_type": "code",
   "execution_count": 34,
   "metadata": {},
   "outputs": [],
   "source": [
    "# if have a gpu, to chech type and specs\n",
    "# !nvidia-smi"
   ]
  },
  {
   "cell_type": "markdown",
   "metadata": {},
   "source": [
    "## Preparing Data\n",
    "\n",
    "Create some data using linear regression formula `y = mX + c` same as **y = weight \\* X + bias**, where X = features(inputs) and y = target(labels/outputs).\n"
   ]
  },
  {
   "cell_type": "code",
   "execution_count": 49,
   "metadata": {},
   "outputs": [
    {
     "data": {
      "text/plain": [
       "(tensor([[0.0000],\n",
       "         [0.0200],\n",
       "         [0.0400],\n",
       "         [0.0600],\n",
       "         [0.0800],\n",
       "         [0.1000],\n",
       "         [0.1200],\n",
       "         [0.1400],\n",
       "         [0.1600],\n",
       "         [0.1800]]),\n",
       " tensor([[0.3000],\n",
       "         [0.3140],\n",
       "         [0.3280],\n",
       "         [0.3420],\n",
       "         [0.3560],\n",
       "         [0.3700],\n",
       "         [0.3840],\n",
       "         [0.3980],\n",
       "         [0.4120],\n",
       "         [0.4260]]),\n",
       " 50,\n",
       " torch.Size([50, 1]),\n",
       " torch.Size([50, 1]))"
      ]
     },
     "execution_count": 49,
     "metadata": {},
     "output_type": "execute_result"
    }
   ],
   "source": [
    "# Data with y = weight * X + bias\n",
    "weight2 = 0.7\n",
    "bias2 = 0.3\n",
    "\n",
    "ground_truth_2 = {\"weight_2\": weight2, \"bias_2\": bias2}\n",
    "\n",
    "# range\n",
    "start = 0\n",
    "end = 1\n",
    "step = 0.02\n",
    "\n",
    "# Create X and y (features and labels)\n",
    "X2 = torch.arange(start, end, step).unsqueeze(dim=1) # without unsqueeze, errors will pop up\n",
    "y2 = weight2 * X2 + bias2\n",
    "\n",
    "X2[:10], y2[:10], len(X2), X2.shape, y2.shape"
   ]
  },
  {
   "cell_type": "code",
   "execution_count": 50,
   "metadata": {},
   "outputs": [
    {
     "data": {
      "text/plain": [
       "{'weight_2': 0.7, 'bias_2': 0.3}"
      ]
     },
     "execution_count": 50,
     "metadata": {},
     "output_type": "execute_result"
    }
   ],
   "source": [
    "ground_truth_2"
   ]
  },
  {
   "cell_type": "code",
   "execution_count": 51,
   "metadata": {},
   "outputs": [
    {
     "data": {
      "text/plain": [
       "(40, 40, 10, 10, 50, 50)"
      ]
     },
     "execution_count": 51,
     "metadata": {},
     "output_type": "execute_result"
    }
   ],
   "source": [
    "# Split data\n",
    "train_split_2 = int(0.8 * len(X2))\n",
    "\n",
    "X2_train, y2_train = X2[:train_split_2], y2[:train_split_2] # 80% each\n",
    "X2_test, y2_test = X2[train_split_2:], y2[train_split_2:]   # 40% each\n",
    "\n",
    "len(X2_train), len(y2_train), len(X2_test), len(y2_test), len(X2), len(y2)"
   ]
  },
  {
   "cell_type": "code",
   "execution_count": 52,
   "metadata": {},
   "outputs": [],
   "source": [
    "# rebuilding the function to plot data and predictions\n",
    "def plot_predictions_2(\n",
    "    train_data=X2_train,\n",
    "    train_labels=y2_train,\n",
    "    test_data=X2_test,\n",
    "    test_labels=y2_test,\n",
    "    predictions=None,\n",
    "):\n",
    "    \"\"\"\n",
    "    Plots training data, test data and compares predictions\n",
    "    \"\"\"\n",
    "    plt.figure(figsize=(10, 7))\n",
    "\n",
    "    # Plot training data in blue\n",
    "    plt.scatter(train_data, train_labels, c=\"b\", s=4, label=\"Training data\")\n",
    "\n",
    "    # Plot test data in green\n",
    "    plt.scatter(test_data, test_labels, c=\"g\", s=4, label=\"Testing data\")\n",
    "\n",
    "    # Are there predictions?\n",
    "    if predictions is not None:\n",
    "        # Plot the predictions if they exist\n",
    "        plt.scatter(test_data, predictions, c=\"r\", s=4, label=\"Predictions\")\n",
    "\n",
    "    # Show the legend\n",
    "    plt.legend(prop={\"size\": 14})\n",
    "    plt.show()"
   ]
  },
  {
   "cell_type": "code",
   "execution_count": 53,
   "metadata": {},
   "outputs": [
    {
     "data": {
      "image/png": "[encoded data removed]",
      "text/plain": [
       "<Figure size 1000x700 with 1 Axes>"
      ]
     },
     "metadata": {},
     "output_type": "display_data"
    }
   ],
   "source": [
    "# plot the data\n",
    "plot_predictions_2()"
   ]
  },
  {
   "cell_type": "markdown",
   "metadata": {},
   "source": [
    "## Building a PyTorch Linear Model\n",
    "\n",
    "This time we'll create a linear model by subclassing `nn.Modude`\n",
    "\n",
    "The `in_features` and `out_features` are going to be highly dependent on the dimensionality of the training data and labels, in our case, **X2**/X2_train and **y2**/y2_train, which is `[50, 1]`, 1 column.\n"
   ]
  },
  {
   "cell_type": "code",
   "execution_count": 54,
   "metadata": {},
   "outputs": [],
   "source": [
    "# Creating a linear model by subclassing nn.Module\n",
    "class LinearRegressionModelV2(nn.Module):\n",
    "    def __init__(self):\n",
    "        super().__init__()\n",
    "        # Using nn.Linear for creating model parameters (weight and bias)\n",
    "        self.linear_layer = nn.Linear(in_features=1, out_features=1)\n",
    "\n",
    "    def forward(self, x: torch.Tensor) -> torch.Tensor:\n",
    "        return self.linear_layer(x)\n"
   ]
  },
  {
   "cell_type": "code",
   "execution_count": 55,
   "metadata": {},
   "outputs": [
    {
     "name": "stdout",
     "output_type": "stream",
     "text": [
      "LinearRegressionModelV2(\n",
      "  (linear_layer): Linear(in_features=1, out_features=1, bias=True)\n",
      ")\n",
      "OrderedDict({'linear_layer.weight': tensor([[0.7645]]), 'linear_layer.bias': tensor([0.8300])})\n"
     ]
    }
   ],
   "source": [
    "# set manual seed\n",
    "torch.manual_seed(42)\n",
    "\n",
    "# Create model instance\n",
    "model_2 = LinearRegressionModelV2()\n",
    "\n",
    "# view model and its parameters\n",
    "print(model_2)\n",
    "print(model_2.state_dict())"
   ]
  },
  {
   "cell_type": "code",
   "execution_count": 56,
   "metadata": {},
   "outputs": [
    {
     "data": {
      "text/plain": [
       "device(type='cpu')"
      ]
     },
     "execution_count": 56,
     "metadata": {},
     "output_type": "execute_result"
    }
   ],
   "source": [
    "# Check the model current device\n",
    "next(model_2.parameters()).device"
   ]
  },
  {
   "cell_type": "code",
   "execution_count": 57,
   "metadata": {},
   "outputs": [
    {
     "data": {
      "text/plain": [
       "device(type='cpu')"
      ]
     },
     "execution_count": 57,
     "metadata": {},
     "output_type": "execute_result"
    }
   ],
   "source": [
    "# Set model to use target device, just incase we have a gpu or we use colab\n",
    "model_2.to(device)\n",
    "next(model_2.parameters()).device"
   ]
  },
  {
   "cell_type": "markdown",
   "metadata": {},
   "source": [
    "## Training\n",
    "\n",
    "For training we need:\n",
    "\n",
    "- Loss Function\n",
    "- Optimizer\n",
    "- Training Loop\n",
    "- Testing Loop\n"
   ]
  },
  {
   "cell_type": "code",
   "execution_count": 61,
   "metadata": {},
   "outputs": [],
   "source": [
    "# Set up loss function\n",
    "loss_fn_2 = nn.L1Loss() # Mean Absolute Error\n",
    "\n",
    "# Set up optimizer\n",
    "optimizer_2 = torch.optim.SGD(params=model_2.parameters(), lr=0.01)\n",
    "\n",
    "# Manual seed\n",
    "torch.manual_seed(42)\n",
    "\n",
    "# Lists for logging the values\n",
    "epoch_count_2 = []\n",
    "train_loss_values_2 = []\n",
    "test_loss_values_2 = []\n",
    "\n",
    "# We're also adding data to target device to avoid errors where model and data are not in the same davice incase we're using colab GPU.\n",
    "\n",
    "def train_test_2(epochs, ground_truth_2=ground_truth_2, model=model_2,train_data=X2_train.to(device), train_targets=y2_train.to(device), test_data=X2_test.to(device), test_targets=y2_test.to(device), optimizer=optimizer_2, loss_fn=loss_fn_2, plot=True):\n",
    "    \"\"\"Train model for n number of epochs\"\"\"\n",
    "    # Training Loop\n",
    "    for epoch in range(epochs):\n",
    "        ## Train loop\n",
    "        model.train()\n",
    "        # Forward pass\n",
    "        train_preds_2 = model(train_data)\n",
    "        # Calculating Loss\n",
    "        loss_2 = loss_fn(train_preds_2, train_targets)\n",
    "        # zeroing optimizer gradients\n",
    "        optimizer.zero_grad()\n",
    "        # Backpropagation\n",
    "        loss_2.backward()\n",
    "        # Gradient descent\n",
    "        optimizer.step()\n",
    "\n",
    "        ## Test loop\n",
    "        model.eval()\n",
    "        with torch.inference_mode():\n",
    "            # Forward pass\n",
    "            test_preds_2 = model(test_data)\n",
    "            # Loss\n",
    "            test_loss_2 = loss_fn(test_preds_2, test_targets)\n",
    "        \n",
    "        # Logging\n",
    "        if epoch % (epochs * 0.2) == 0: # At every 20% epoch of total epochs\n",
    "            print(f\"\\nEpoch: {epoch}\")\n",
    "            epoch_count_2.append(epoch)\n",
    "            print(f\"Train loss: {loss_2}\")\n",
    "            train_loss_values_2.append(loss_2.item())\n",
    "            print(f\"Test loss: {test_loss_2}\")\n",
    "            test_loss_values_2.append(test_loss_2.item())\n",
    "            \n",
    "    if plot:\n",
    "        plot_predictions_2(predictions=test_preds_2)\n",
    "\n",
    "    print(\"Training and Eval complete\")\n",
    "    print(f\"Model parameters: {model.state_dict()}\")\n",
    "    print(f\"Ground Truth: {ground_truth_2}\")"
   ]
  },
  {
   "cell_type": "code",
   "execution_count": 62,
   "metadata": {},
   "outputs": [
    {
     "name": "stdout",
     "output_type": "stream",
     "text": [
      "\n",
      "Epoch: 0\n",
      "Train loss: 0.5551779866218567\n",
      "Test loss: 0.5739762187004089\n",
      "\n",
      "Epoch: 40\n",
      "Train loss: 0.09433844685554504\n",
      "Test loss: 0.03513689711689949\n",
      "\n",
      "Epoch: 80\n",
      "Train loss: 0.013089170679450035\n",
      "Test loss: 0.029944902285933495\n",
      "\n",
      "Epoch: 120\n",
      "Train loss: 0.0012645035749301314\n",
      "Test loss: 0.013801807537674904\n",
      "\n",
      "Epoch: 160\n",
      "Train loss: 0.0012645035749301314\n",
      "Test loss: 0.013801807537674904\n"
     ]
    },
    {
     "data": {
      "image/png": "[encoded data removed]",
      "text/plain": [
       "<Figure size 1000x700 with 1 Axes>"
      ]
     },
     "metadata": {},
     "output_type": "display_data"
    },
    {
     "name": "stdout",
     "output_type": "stream",
     "text": [
      "Training and Eval complete\n",
      "Model parameters: OrderedDict({'linear_layer.weight': tensor([[0.6968]]), 'linear_layer.bias': tensor([0.3025])})\n",
      "Ground Truth: {'weight_2': 0.7, 'bias_2': 0.3}\n"
     ]
    }
   ],
   "source": [
    "# Train for 200 epochs\n",
    "num_epochs_2 = 200\n",
    "\n",
    "train_test_2(epochs=num_epochs_2)"
   ]
  },
  {
   "cell_type": "code",
   "execution_count": 63,
   "metadata": {},
   "outputs": [
    {
     "data": {
      "image/png": "[encoded data removed]",
      "text/plain": [
       "<Figure size 640x480 with 1 Axes>"
      ]
     },
     "metadata": {},
     "output_type": "display_data"
    }
   ],
   "source": [
    "# Plot train and test loss curves\n",
    "def plot_loss_curves_2(epochs=epoch_count_2, train_losses=train_loss_values_2, test_losses=test_loss_values_2):\n",
    "    plt.plot(epochs, train_losses, label=\"Train Loss\")\n",
    "    plt.plot(epochs, test_losses, label=\"Test Loss\")\n",
    "    plt.title(\"Train and Test loss curves for model_2\")\n",
    "    plt.ylabel(\"Epoch\")\n",
    "    plt.xlabel(\"Loss\")\n",
    "    plt.legend()\n",
    "    plt.show()\n",
    "\n",
    "# plotting\n",
    "plot_loss_curves_2()"
   ]
  },
  {
   "cell_type": "markdown",
   "metadata": {},
   "source": [
    "### If the model predictions are satisfying, we can proceed to save the model"
   ]
  },
  {
   "cell_type": "code",
   "execution_count": 64,
   "metadata": {},
   "outputs": [
    {
     "name": "stdout",
     "output_type": "stream",
     "text": [
      "Saving model to: models\\01_pytorch_workflow_model_2.pth\n"
     ]
    }
   ],
   "source": [
    "# Saving the model\n",
    "from pathlib import Path\n",
    "\n",
    "# 1. Create models directory, skip if it exists\n",
    "MODEL_PATH = Path(\"models\")\n",
    "MODEL_PATH.mkdir(parents=True, exist_ok=True)\n",
    "\n",
    "# 2. Create save path\n",
    "MODEL_NAME = \"01_pytorch_workflow_model_2.pth\"\n",
    "MODEL_SAVE_PATH = MODEL_PATH / MODEL_NAME\n",
    "\n",
    "# 3. Save the model state dict\n",
    "print(f\"Saving model to: {MODEL_SAVE_PATH}\")\n",
    "torch.save(obj=model_2.state_dict(), f=MODEL_SAVE_PATH)"
   ]
  }
 ],
 "metadata": {
  "kernelspec": {
   "display_name": "Python 3",
   "language": "python",
   "name": "python3"
  },
  "language_info": {
   "codemirror_mode": {
    "name": "ipython",
    "version": 3
   },
   "file_extension": ".py",
   "mimetype": "text/x-python",
   "name": "python",
   "nbconvert_exporter": "python",
   "pygments_lexer": "ipython3",
   "version": "3.12.2"
  }
 },
 "nbformat": 4,
 "nbformat_minor": 2
}
